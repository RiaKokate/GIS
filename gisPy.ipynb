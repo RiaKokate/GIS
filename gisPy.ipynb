{
  "nbformat": 4,
  "nbformat_minor": 0,
  "metadata": {
    "colab": {
      "provenance": [],
      "include_colab_link": true
    },
    "kernelspec": {
      "name": "python3",
      "display_name": "Python 3"
    },
    "language_info": {
      "name": "python"
    }
  },
  "cells": [
    {
      "cell_type": "markdown",
      "metadata": {
        "id": "view-in-github",
        "colab_type": "text"
      },
      "source": [
        "<a href=\"https://colab.research.google.com/github/RiaKokate/GIS/blob/main/gisPy.ipynb\" target=\"_parent\"><img src=\"https://colab.research.google.com/assets/colab-badge.svg\" alt=\"Open In Colab\"/></a>"
      ]
    },
    {
      "cell_type": "markdown",
      "source": [
        "## Student: Ria Kokate"
      ],
      "metadata": {
        "id": "v-PpPJis0GDl"
      }
    },
    {
      "cell_type": "markdown",
      "source": [
        "# Project- Disaster Frequency and Impact Mapping"
      ],
      "metadata": {
        "id": "Ir8IDFwa1Zsw"
      }
    },
    {
      "cell_type": "markdown",
      "source": [
        "Having grown up in India and experienced the destructive 2018 Kerala floods, my interest in disaster management blossomed from that point onward. The experience made me understand the vital role of preparedness, which applies not only to India but also to various regions that are prone to disasters in the United States, including hurricanes, wildfires, and flooding that causes widespread damage.\n",
        "\n",
        "The EM-DAT(1900-2024) dataset is a good fit, which includes information on the natural disasters we will survey within this project. Thus, this data source will allow for trend analyses and for identifying high-risk regions in the United States. I would like to extend my project more and map regions affected in the entire world."
      ],
      "metadata": {
        "id": "PB9UF6vK0F32"
      }
    },
    {
      "cell_type": "code",
      "execution_count": null,
      "metadata": {
        "id": "hc8oSJS-FDEi"
      },
      "outputs": [],
      "source": [
        "%%capture\n",
        "!pip install geopandas==1.0.1\n",
        "!pip install mapclassify"
      ]
    },
    {
      "cell_type": "code",
      "source": [
        "import os, zipfile #basics\n",
        "import pandas as pd #data management\n",
        "import matplotlib.pyplot as plt #visualization\n",
        "import geopandas as gpd #gis-maps lib\n",
        "\n",
        "import mapclassify #need for thematic map classification\n",
        "\n",
        "#will display all output not just last command\n",
        "from IPython.core.interactiveshell import InteractiveShell\n",
        "InteractiveShell.ast_node_interactivity = \"all\"\n",
        "\n",
        "from google.colab import files #to download from colab onto hd\n",
        "\n",
        "from google.colab import data_table\n",
        "data_table.enable_dataframe_formatter() #this enables spreadsheet view upon calling dataframe (without() )"
      ],
      "metadata": {
        "id": "RjN_gj_N5Loa"
      },
      "execution_count": null,
      "outputs": []
    },
    {
      "cell_type": "code",
      "source": [
        "#!python --version\n",
        "gpd.__version__"
      ],
      "metadata": {
        "id": "jrpRiD9L5Lk2"
      },
      "execution_count": null,
      "outputs": []
    },
    {
      "cell_type": "code",
      "source": [],
      "metadata": {
        "id": "ApPpE3p35geA"
      },
      "execution_count": null,
      "outputs": []
    },
    {
      "cell_type": "code",
      "source": [],
      "metadata": {
        "id": "WSHmH-TM5LiY"
      },
      "execution_count": null,
      "outputs": []
    },
    {
      "cell_type": "code",
      "source": [],
      "metadata": {
        "id": "ddcizhdn5Lap"
      },
      "execution_count": null,
      "outputs": []
    }
  ]
}