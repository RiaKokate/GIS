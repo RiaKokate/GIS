{
  "nbformat": 4,
  "nbformat_minor": 0,
  "metadata": {
    "colab": {
      "provenance": [],
      "include_colab_link": true
    },
    "kernelspec": {
      "name": "python3",
      "display_name": "Python 3"
    },
    "language_info": {
      "name": "python"
    }
  },
  "cells": [
    {
      "cell_type": "markdown",
      "metadata": {
        "id": "view-in-github",
        "colab_type": "text"
      },
      "source": [
        "<a href=\"https://colab.research.google.com/github/RiaKokate/GIS/blob/main/gisPy.ipynb\" target=\"_parent\"><img src=\"https://colab.research.google.com/assets/colab-badge.svg\" alt=\"Open In Colab\"/></a>"
      ]
    },
    {
      "cell_type": "markdown",
      "source": [
        "## Student: Ria Kokate"
      ],
      "metadata": {
        "id": "v-PpPJis0GDl"
      }
    },
    {
      "cell_type": "markdown",
      "source": [
        "# Project- Disaster Frequency and Impact Mapping"
      ],
      "metadata": {
        "id": "Ir8IDFwa1Zsw"
      }
    },
    {
      "cell_type": "markdown",
      "source": [
        "Having grown up in India and experienced the destructive 2018 Kerala floods, my interest in disaster management blossomed from that point onward. The experience made me understand the vital role of preparedness, which applies not only to India but also to various regions that are prone to disasters in the United States, including hurricanes, wildfires, and flooding that causes widespread damage."
      ],
      "metadata": {
        "id": "PB9UF6vK0F32"
      }
    },
    {
      "cell_type": "code",
      "execution_count": 1,
      "metadata": {
        "id": "hc8oSJS-FDEi"
      },
      "outputs": [],
      "source": [
        "%%capture\n",
        "!pip install geopandas==1.0.1\n",
        "!pip install mapclassify"
      ]
    },
    {
      "cell_type": "code",
      "source": [
        "import os, zipfile #basics\n",
        "import pandas as pd #data management\n",
        "import matplotlib.pyplot as plt #visualization\n",
        "import geopandas as gpd #gis-maps lib\n",
        "\n",
        "import mapclassify #need for thematic map classification\n",
        "\n",
        "#will display all output not just last command\n",
        "from IPython.core.interactiveshell import InteractiveShell\n",
        "InteractiveShell.ast_node_interactivity = \"all\"\n",
        "\n",
        "from google.colab import files #to download from colab onto hd\n",
        "\n",
        "from google.colab import data_table\n",
        "data_table.enable_dataframe_formatter() #this enables spreadsheet view upon calling dataframe (without() )"
      ],
      "metadata": {
        "id": "RjN_gj_N5Loa"
      },
      "execution_count": 2,
      "outputs": []
    },
    {
      "cell_type": "code",
      "source": [
        "#!python --version\n",
        "gpd.__version__"
      ],
      "metadata": {
        "id": "jrpRiD9L5Lk2",
        "colab": {
          "base_uri": "https://localhost:8080/",
          "height": 36
        },
        "outputId": "f9894a5f-c88a-4d99-bc5c-e0a70417a6c1"
      },
      "execution_count": 3,
      "outputs": [
        {
          "output_type": "execute_result",
          "data": {
            "text/plain": [
              "'1.0.1'"
            ],
            "application/vnd.google.colaboratory.intrinsic+json": {
              "type": "string"
            }
          },
          "metadata": {},
          "execution_count": 3
        }
      ]
    },
    {
      "cell_type": "markdown",
      "source": [
        "#Mapping"
      ],
      "metadata": {
        "id": "0sf7o-ECCoJx"
      }
    },
    {
      "cell_type": "code",
      "source": [
        "#i found one and reposted on my website, download it onto colab:\n",
        "! wget -q -O nj-counties.zip https://docs.google.com/uc?id=1OkKmNAWL8iLY0sl1SqauV342c6T5Swut&export=download\n",
        "\n",
        "with zipfile.ZipFile('cb_2018_us_county_5m.zip', 'r') as zip_ref:\n",
        "    zip_ref.extractall(); zip_ref.close()\n",
        "\n",
        "# Load the shapefile using GeoPandas\n",
        "us_counties = gpd.read_file('cb_2018_us_county_5m.shp')\n",
        "\n",
        "# Display the first few rows of the shapefile to understand its structure\n",
        "print(us_counties.head())"
      ],
      "metadata": {
        "colab": {
          "base_uri": "https://localhost:8080/"
        },
        "id": "v2bnKq-OCny0",
        "outputId": "e16c89d4-661f-4901-c96f-339ea05b7840"
      },
      "execution_count": 5,
      "outputs": [
        {
          "output_type": "stream",
          "name": "stdout",
          "text": [
            "  STATEFP COUNTYFP  COUNTYNS        AFFGEOID  GEOID      NAME LSAD  \\\n",
            "0      39      071  01074048  0500000US39071  39071  Highland   06   \n",
            "1      06      003  01675840  0500000US06003  06003    Alpine   06   \n",
            "2      12      033  00295737  0500000US12033  12033  Escambia   06   \n",
            "3      17      101  00424252  0500000US17101  17101  Lawrence   06   \n",
            "4      28      153  00695797  0500000US28153  28153     Wayne   06   \n",
            "\n",
            "        ALAND     AWATER                                           geometry  \n",
            "0  1432479992   12194983  POLYGON ((-83.86976 39.05553, -83.86568 39.247...  \n",
            "1  1912292630   12557304  POLYGON ((-120.07248 38.50987, -120.07239 38.7...  \n",
            "2  1701544502  563927612  POLYGON ((-87.62999 30.87766, -87.62946 30.880...  \n",
            "3   963936864    5077783  POLYGON ((-87.91028 38.57493, -87.90811 38.850...  \n",
            "4  2099745573    7255476  POLYGON ((-88.94317 31.78421, -88.94336 31.824...  \n"
          ]
        }
      ]
    },
    {
      "cell_type": "code",
      "source": [
        "us_counties.plot()"
      ],
      "metadata": {
        "colab": {
          "base_uri": "https://localhost:8080/",
          "height": 217
        },
        "id": "iRU3qn2sIjnO",
        "outputId": "b2e67525-03b2-467c-85e5-e59ede2154e3"
      },
      "execution_count": 6,
      "outputs": [
        {
          "output_type": "execute_result",
          "data": {
            "text/plain": [
              "<Axes: >"
            ]
          },
          "metadata": {},
          "execution_count": 6
        },
        {
          "output_type": "display_data",
          "data": {
            "text/plain": [
              "<Figure size 640x480 with 1 Axes>"
            ],
            "image/png": "[encoded data removed]"
          },
          "metadata": {}
        }
      ]
    }
  ]
}